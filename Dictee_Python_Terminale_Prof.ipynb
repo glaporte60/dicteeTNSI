{
 "cells": [
  {
   "cell_type": "markdown",
   "metadata": {},
   "source": [
    "# Dictee N°1\n"
   ]
  },
  {
   "cell_type": "code",
   "execution_count": 5,
   "metadata": {},
   "outputs": [
    {
     "name": "stdout",
     "output_type": "stream",
     "text": [
      "0\n"
     ]
    }
   ],
   "source": [
    "# Version Eleve\n",
    "def truc1(L):\n",
    "    \"\"\"\n",
    "    \n",
    "    \"\"\"\n",
    "    s=0 \n",
    "    for val in L :\n",
    "        s+=val\n",
    "    return s\n",
    "\n",
    "L=[1,2,3,4,5,6,7,8,9,10]\n",
    "print(truc1(L))"
   ]
  },
  {
   "cell_type": "code",
   "execution_count": 17,
   "metadata": {},
   "outputs": [
    {
     "data": {
      "text/plain": [
       "55"
      ]
     },
     "execution_count": 17,
     "metadata": {},
     "output_type": "execute_result"
    }
   ],
   "source": [
    "# Version Prof\n",
    "def somme1(L):\n",
    "    \n",
    "    \"\"\"\n",
    "    Entrée : un tableau d'entier\n",
    "    Sortie : La somme de toutes les valeurs du tableau\n",
    "    \"\"\"\n",
    "    s=0\n",
    "    for val in L :\n",
    "        s+=val\n",
    "    return s\n",
    "\n",
    "L=[1,2,3,4,5,6,7,8,9,10]\n",
    "somme1(L)"
   ]
  },
  {
   "cell_type": "markdown",
   "metadata": {},
   "source": [
    "# Dictee N°2\n"
   ]
  },
  {
   "cell_type": "code",
   "execution_count": 20,
   "metadata": {},
   "outputs": [
    {
     "data": {
      "text/plain": [
       "6.0"
      ]
     },
     "execution_count": 20,
     "metadata": {},
     "output_type": "execute_result"
    }
   ],
   "source": [
    "def somme1(L):\n",
    "    \n",
    "    \"\"\"\n",
    "    Entrée : un tableau d'entier\n",
    "    Sortie : La somme de toutes les valeurs du tableau\n",
    "    \"\"\"\n",
    "    s=0\n",
    "    for val in L :\n",
    "        s+=val\n",
    "    return s\n",
    "\n",
    "\n",
    "def  moyenne(L):\n",
    "    return somme1(L)/len(L)\n",
    "\n",
    "\n",
    "moyenne([1,2,3,4,5,6,7,8,9,10,11])\n",
    "    "
   ]
  },
  {
   "cell_type": "code",
   "execution_count": 2,
   "metadata": {},
   "outputs": [
    {
     "ename": "NameError",
     "evalue": "name 'truc' is not defined",
     "output_type": "error",
     "traceback": [
      "\u001b[1;31m---------------------------------------------------------------------------\u001b[0m",
      "\u001b[1;31mNameError\u001b[0m                                 Traceback (most recent call last)",
      "\u001b[1;32m<ipython-input-2-3728c3d20049>\u001b[0m in \u001b[0;36m<module>\u001b[1;34m\u001b[0m\n\u001b[0;32m     10\u001b[0m \u001b[1;33m\u001b[0m\u001b[0m\n\u001b[0;32m     11\u001b[0m \u001b[0mL\u001b[0m\u001b[1;33m=\u001b[0m\u001b[1;33m[\u001b[0m\u001b[1;36m1\u001b[0m\u001b[1;33m,\u001b[0m\u001b[1;36m2\u001b[0m\u001b[1;33m,\u001b[0m\u001b[1;36m3\u001b[0m\u001b[1;33m,\u001b[0m\u001b[1;36m4\u001b[0m\u001b[1;33m,\u001b[0m\u001b[1;36m5\u001b[0m\u001b[1;33m,\u001b[0m\u001b[1;36m6\u001b[0m\u001b[1;33m,\u001b[0m\u001b[1;36m7\u001b[0m\u001b[1;33m,\u001b[0m\u001b[1;36m8\u001b[0m\u001b[1;33m,\u001b[0m\u001b[1;36m9\u001b[0m\u001b[1;33m,\u001b[0m\u001b[1;36m10\u001b[0m\u001b[1;33m]\u001b[0m\u001b[1;33m\u001b[0m\u001b[1;33m\u001b[0m\u001b[0m\n\u001b[1;32m---> 12\u001b[1;33m \u001b[0mprint\u001b[0m\u001b[1;33m(\u001b[0m\u001b[1;34mf'????{truc(L)}'\u001b[0m\u001b[1;33m)\u001b[0m\u001b[1;33m\u001b[0m\u001b[1;33m\u001b[0m\u001b[0m\n\u001b[0m",
      "\u001b[1;31mNameError\u001b[0m: name 'truc' is not defined"
     ]
    }
   ],
   "source": [
    "# Version Eleve\n",
    "def truc2(L):\n",
    "    \"\"\"\n",
    "    \n",
    "    \"\"\"\n",
    "    s=0 \n",
    "    for i in range (len(L)):\n",
    "        s+=L[i]\n",
    "    return s\n",
    "\n",
    "L=[1,2,3,4,5,6,7,8,9,10]\n",
    "print(f'????{truc(L)}')"
   ]
  },
  {
   "cell_type": "code",
   "execution_count": 10,
   "metadata": {},
   "outputs": [
    {
     "name": "stdout",
     "output_type": "stream",
     "text": [
      "La somme des éléments du tableau L est égal à 55\n"
     ]
    }
   ],
   "source": [
    "# Version Prof\n",
    "def somme2(L):\n",
    "    \n",
    "    \"\"\"\n",
    "    Entrée : un tableau d'entier\n",
    "    Sortie : La somme de toutes les valeurs du tableau\n",
    "    \"\"\"\n",
    "    s=0 \n",
    "    for i in range (len(L)):\n",
    "        s+=L[i]\n",
    "    return s\n",
    "\n",
    "\n",
    "L=[1,2,3,4,5,6,7,8,9,10]\n",
    "somme2(L)\n",
    "print(f'La somme des éléments du tableau L est égal à {somme2(L)}')"
   ]
  },
  {
   "cell_type": "markdown",
   "metadata": {},
   "source": [
    "# Dictee N°3\n"
   ]
  },
  {
   "cell_type": "code",
   "execution_count": 2,
   "metadata": {},
   "outputs": [
    {
     "data": {
      "text/plain": [
       "120"
      ]
     },
     "execution_count": 2,
     "metadata": {},
     "output_type": "execute_result"
    }
   ],
   "source": [
    "# Version Eleve\n",
    "def truc3(L):\n",
    "    if not L:\n",
    "        return 0\n",
    "    return L[0]+truc3(L[1:])\n",
    "\n",
    "L=[1,2,3,4,5,6,7,8,9,10,11,12,13,14,15]\n",
    "truc3(L)\n",
    "#print(f'??? {truc3(L)}')"
   ]
  },
  {
   "cell_type": "code",
   "execution_count": null,
   "metadata": {},
   "outputs": [],
   "source": [
    "# Version Eleve\n",
    "def somme3(L):\n",
    "    if not L:\n",
    "        return 0\n",
    "    return L[0]+truc3(L[1:])\n",
    "\n",
    "L=[1,2,3,4,5,6,7,8,9,10]\n",
    "somme3(L)\n",
    "print(f'??? {truc3(L)}')"
   ]
  },
  {
   "cell_type": "code",
   "execution_count": 9,
   "metadata": {},
   "outputs": [
    {
     "data": {
      "text/plain": [
       "'vion'"
      ]
     },
     "execution_count": 9,
     "metadata": {},
     "output_type": "execute_result"
    }
   ],
   "source": [
    "mot='avion'\n",
    "mot[1:]"
   ]
  },
  {
   "cell_type": "code",
   "execution_count": 6,
   "metadata": {},
   "outputs": [],
   "source": [
    "import os\n",
    "os.environ[\"PATH\"] += os.pathsep + 'C:/Program Files/Graphviz/bin'\n",
    "\n",
    "#D:/Program Files (x86)/Graphviz2.38/bin/'"
   ]
  },
  {
   "cell_type": "code",
   "execution_count": 7,
   "metadata": {},
   "outputs": [],
   "source": [
    "import rcviz"
   ]
  },
  {
   "cell_type": "code",
   "execution_count": 5,
   "metadata": {},
   "outputs": [
    {
     "name": "stdout",
     "output_type": "stream",
     "text": [
      "La somme des éléments du tableau L est égal à 55\n"
     ]
    }
   ],
   "source": [
    "# Version Prof\n",
    "\n",
    "#cg = rcviz.CallGraph()\n",
    "#@rcviz.viz(cg)\n",
    "\n",
    "def somme3(L):\n",
    "    if not L:\n",
    "        return 0\n",
    "    else : return L[0]+somme3(L[1:])\n",
    "\n",
    "L=[1,2,3,4,5,6,7,8,9,10]\n",
    "somme3(L)\n",
    "\n",
    "print(f'La somme des éléments du tableau L est égal à {somme3(L)}')\n",
    "\n",
    "#cg.render()"
   ]
  },
  {
   "cell_type": "markdown",
   "metadata": {},
   "source": [
    "# Dictee N°4\n"
   ]
  },
  {
   "cell_type": "code",
   "execution_count": 18,
   "metadata": {},
   "outputs": [
    {
     "name": "stdout",
     "output_type": "stream",
     "text": [
      "ruojnob\n",
      "noyon\n",
      "isn al eviv\n",
      "False\n",
      "True\n",
      "False\n"
     ]
    }
   ],
   "source": [
    "# Version Eleve\n",
    "def bidule(ch):\n",
    "    resultat=''\n",
    "    for caractere in ch:\n",
    "        resultat = caractere + resultat\n",
    "    return resultat\n",
    "\n",
    "print(bidule('bonjour'))\n",
    "print(bidule('noyon'))\n",
    "print(bidule('vive la nsi'))\n",
    "\n",
    "def bidule1(ch):\n",
    "    mot=bidule(ch)\n",
    "    return mot==ch\n",
    "\n",
    "print(bidule1('bonjour'))\n",
    "print(bidule1('noyon'))\n",
    "print(bidule1('vive la nsi'))\n",
    "        "
   ]
  },
  {
   "cell_type": "code",
   "execution_count": 19,
   "metadata": {},
   "outputs": [
    {
     "name": "stdout",
     "output_type": "stream",
     "text": [
      "ruojnob\n",
      "noyon\n",
      "isn al eviv\n",
      "False\n",
      "True\n",
      "False\n"
     ]
    }
   ],
   "source": [
    "# Version Prof\n",
    "def inverse(ch):\n",
    "    resultat=''\n",
    "    for caractere in ch:\n",
    "        resultat = caractere + resultat\n",
    "    return resultat\n",
    "\n",
    "print(inverse('bonjour'))\n",
    "print(inverse('noyon'))\n",
    "print(inverse('vive la nsi'))\n",
    "\n",
    "def estPalindrome(ch):\n",
    "    mot=inverse(ch)\n",
    "    return mot==ch\n",
    "\n",
    "#def estPalindrome(ch):\n",
    "#    mot=inverse(ch)\n",
    "#    for i in range(len(mot)) :\n",
    "#        if ch[i]!=mot[i]:\n",
    "#            return False\n",
    "#    return True\n",
    "\n",
    "print(estPalindrome('bonjour'))\n",
    "print(estPalindrome('noyon'))\n",
    "print(estPalindrome('vive la nsi'))\n",
    "        "
   ]
  },
  {
   "cell_type": "markdown",
   "metadata": {},
   "source": [
    "# Dictee N°5\n"
   ]
  },
  {
   "cell_type": "code",
   "execution_count": 22,
   "metadata": {},
   "outputs": [
    {
     "name": "stdout",
     "output_type": "stream",
     "text": [
      "False\n",
      "True\n"
     ]
    }
   ],
   "source": [
    "#version Eleve\n",
    "def machin(ch):\n",
    "    if ch=='':\n",
    "        return ''\n",
    "    else : return  machin(ch[1:]) + ch[0]\n",
    "    \n",
    "def prog1(ch):\n",
    "    mot=machin(ch)\n",
    "    return mot==ch\n",
    "\n",
    "print(prog1('azerty'))\n",
    "print(prog1('kayak'))"
   ]
  },
  {
   "cell_type": "code",
   "execution_count": 9,
   "metadata": {},
   "outputs": [
    {
     "data": {
      "text/plain": [
       "'ytreza'"
      ]
     },
     "execution_count": 9,
     "metadata": {},
     "output_type": "execute_result"
    }
   ],
   "source": [
    "#version Prof\n",
    "def inverseRec(ch):\n",
    "    if ch=='':\n",
    "        return ''\n",
    "    else : return  inverseRec(ch[1:]) + ch[0]\n",
    "\n",
    "inverseRec('azerty')"
   ]
  },
  {
   "cell_type": "markdown",
   "metadata": {},
   "source": [
    "# Dictee N°6\n"
   ]
  },
  {
   "cell_type": "code",
   "execution_count": 15,
   "metadata": {},
   "outputs": [],
   "source": [
    "# Version Eleve\n",
    "\n",
    "def machin1(ch):\n",
    "    if len(ch)<=1: return True\n",
    "    else : return ch[0]==ch[-1] and machin1(ch[1:-1])"
   ]
  },
  {
   "cell_type": "code",
   "execution_count": 17,
   "metadata": {},
   "outputs": [
    {
     "name": "stdout",
     "output_type": "stream",
     "text": [
      "False\n",
      "True\n",
      "False\n"
     ]
    }
   ],
   "source": [
    "print(machin1('bonjour'))\n",
    "print(machin1('noyon'))\n",
    "print(machin1('vive la nsi'))"
   ]
  },
  {
   "cell_type": "code",
   "execution_count": 18,
   "metadata": {},
   "outputs": [],
   "source": [
    "# Version Prof\n",
    "\n",
    "def estPalindromeRec(ch):\n",
    "    if len(ch)<=1: return True\n",
    "    else : return ch[0]==ch[-1] and estPalindromeRec(ch[1:-1])"
   ]
  },
  {
   "cell_type": "code",
   "execution_count": 19,
   "metadata": {},
   "outputs": [
    {
     "name": "stdout",
     "output_type": "stream",
     "text": [
      "False\n",
      "True\n",
      "False\n"
     ]
    }
   ],
   "source": [
    "print(estPalindromeRec('bonjour'))\n",
    "print(estPalindromeRec('noyon'))\n",
    "print(estPalindromeRec('vive la nsi'))"
   ]
  },
  {
   "cell_type": "code",
   "execution_count": null,
   "metadata": {},
   "outputs": [],
   "source": []
  },
  {
   "cell_type": "markdown",
   "metadata": {},
   "source": [
    "# Dictee N°7\n"
   ]
  },
  {
   "cell_type": "code",
   "execution_count": null,
   "metadata": {},
   "outputs": [],
   "source": []
  },
  {
   "cell_type": "code",
   "execution_count": 14,
   "metadata": {},
   "outputs": [
    {
     "data": {
      "text/plain": [
       "{'b': 1, 'o': 2, 'n': 1, 'j': 1, 'u': 1, 'r': 1}"
      ]
     },
     "execution_count": 14,
     "metadata": {},
     "output_type": "execute_result"
    }
   ],
   "source": [
    "# Version Eleve\n",
    "#recherche du nombre d'occurrence dans un mot\n",
    "\n",
    "def machin2(mot):\n",
    "    reponse={}\n",
    "    for lettre in mot :\n",
    "        if lettre not in reponse:\n",
    "            reponse[lettre]=1\n",
    "        else:\n",
    "            reponse[lettre]+=1\n",
    "    return reponse\n",
    "\n",
    "machin2('bonjour')"
   ]
  },
  {
   "cell_type": "code",
   "execution_count": null,
   "metadata": {},
   "outputs": [],
   "source": [
    "# Version Prof\n",
    "#recherche du nombre d'occurrence dans un mot\n",
    "\n",
    "def rechercheOcurrence(mot):\n",
    "    reponse={}\n",
    "    for lettre in mot :\n",
    "        if lettre not in reponse:\n",
    "            reponse[lettre]=1\n",
    "        else:\n",
    "            reponse[lettre]+=1\n",
    "    return reponse\n",
    "\n",
    "rechercheOcurrence('bonjour')"
   ]
  },
  {
   "cell_type": "markdown",
   "metadata": {},
   "source": [
    "# Dictee N°8\n",
    "\n"
   ]
  },
  {
   "cell_type": "code",
   "execution_count": 1,
   "metadata": {},
   "outputs": [
    {
     "data": {
      "text/plain": [
       "254"
      ]
     },
     "execution_count": 1,
     "metadata": {},
     "output_type": "execute_result"
    }
   ],
   "source": [
    "#Version Eleve \n",
    "def fonction1(n1,n2):\n",
    "    if n1<n2:\n",
    "        return n2\n",
    "    else:\n",
    "        return n1\n",
    "    \n",
    "def fonction2(tab):\n",
    "    if len(tab)==1: return tab[0]\n",
    "    else: return fonction1(tab[0], fonction2(tab[1:]))\n",
    "    \n",
    "fonction2([25,1,254,6,3,98,74,14,56])\n",
    "        "
   ]
  },
  {
   "cell_type": "code",
   "execution_count": 2,
   "metadata": {},
   "outputs": [
    {
     "data": {
      "text/plain": [
       "254"
      ]
     },
     "execution_count": 2,
     "metadata": {},
     "output_type": "execute_result"
    }
   ],
   "source": [
    "# Version Prof\n",
    "\n",
    "def maximum1(n1,n2):\n",
    "    if n1<n2:\n",
    "        return n2\n",
    "    else:\n",
    "        return n1\n",
    "    \n",
    "def maxRec(tab):\n",
    "    if len(tab)==1: return tab[0]\n",
    "    else: return maximum1(tab[0], maxRec(tab[1:]))\n",
    "    \n",
    "maxRec([25,1,254,6,3,98,74,14,56])\n",
    "        "
   ]
  },
  {
   "cell_type": "markdown",
   "metadata": {},
   "source": [
    "# Dictee N°9\n",
    "\n"
   ]
  },
  {
   "cell_type": "code",
   "execution_count": null,
   "metadata": {},
   "outputs": [],
   "source": []
  },
  {
   "cell_type": "code",
   "execution_count": null,
   "metadata": {},
   "outputs": [],
   "source": []
  }
 ],
 "metadata": {
  "hide_input": false,
  "kernelspec": {
   "display_name": "Python 3",
   "language": "python",
   "name": "python3"
  },
  "language_info": {
   "codemirror_mode": {
    "name": "ipython",
    "version": 3
   },
   "file_extension": ".py",
   "mimetype": "text/x-python",
   "name": "python",
   "nbconvert_exporter": "python",
   "pygments_lexer": "ipython3",
   "version": "3.7.3"
  },
  "varInspector": {
   "cols": {
    "lenName": 16,
    "lenType": 16,
    "lenVar": 40
   },
   "kernels_config": {
    "python": {
     "delete_cmd_postfix": "",
     "delete_cmd_prefix": "del ",
     "library": "var_list.py",
     "varRefreshCmd": "print(var_dic_list())"
    },
    "r": {
     "delete_cmd_postfix": ") ",
     "delete_cmd_prefix": "rm(",
     "library": "var_list.r",
     "varRefreshCmd": "cat(var_dic_list()) "
    }
   },
   "types_to_exclude": [
    "module",
    "function",
    "builtin_function_or_method",
    "instance",
    "_Feature"
   ],
   "window_display": false
  }
 },
 "nbformat": 4,
 "nbformat_minor": 2
}
