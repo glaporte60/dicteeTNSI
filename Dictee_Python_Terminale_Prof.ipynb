{
 "cells": [
  {
   "cell_type": "markdown",
   "metadata": {},
   "source": [
    "# Dictee N°1\n"
   ]
  },
  {
   "cell_type": "code",
   "execution_count": 5,
   "metadata": {},
   "outputs": [
    {
     "name": "stdout",
     "output_type": "stream",
     "text": [
      "0\n"
     ]
    }
   ],
   "source": [
    "# Version Eleve\n",
    "def truc1(L):\n",
    "    \"\"\"\n",
    "    \n",
    "    \"\"\"\n",
    "    s=0 \n",
    "    for val in L :\n",
    "        s+=val\n",
    "    return s\n",
    "\n",
    "L=[1,2,3,4,5,6,7,8,9,10]\n",
    "print(truc1(L))"
   ]
  },
  {
   "cell_type": "code",
   "execution_count": 17,
   "metadata": {},
   "outputs": [
    {
     "data": {
      "text/plain": [
       "55"
      ]
     },
     "execution_count": 17,
     "metadata": {},
     "output_type": "execute_result"
    }
   ],
   "source": [
    "# Version Prof\n",
    "def somme1(L):\n",
    "    \n",
    "    \"\"\"\n",
    "    Entrée : un tableau d'entier\n",
    "    Sortie : La somme de toutes les valeurs du tableau\n",
    "    \"\"\"\n",
    "    s=0\n",
    "    for val in L :\n",
    "        s+=val\n",
    "    return s\n",
    "\n",
    "L=[1,2,3,4,5,6,7,8,9,10]\n",
    "somme1(L)"
   ]
  },
  {
   "cell_type": "markdown",
   "metadata": {},
   "source": [
    "# Dictee N°2\n"
   ]
  },
  {
   "cell_type": "code",
   "execution_count": 20,
   "metadata": {},
   "outputs": [
    {
     "data": {
      "text/plain": [
       "6.0"
      ]
     },
     "execution_count": 20,
     "metadata": {},
     "output_type": "execute_result"
    }
   ],
   "source": [
    "def somme1(L):\n",
    "    \n",
    "    \"\"\"\n",
    "    Entrée : un tableau d'entier\n",
    "    Sortie : La somme de toutes les valeurs du tableau\n",
    "    \"\"\"\n",
    "    s=0\n",
    "    for val in L :\n",
    "        s+=val\n",
    "    return s\n",
    "\n",
    "\n",
    "def  moyenne(L):\n",
    "    return somme1(L)/len(L)\n",
    "\n",
    "\n",
    "moyenne([1,2,3,4,5,6,7,8,9,10,11])\n",
    "    "
   ]
  },
  {
   "cell_type": "code",
   "execution_count": 2,
   "metadata": {},
   "outputs": [
    {
     "ename": "NameError",
     "evalue": "name 'truc' is not defined",
     "output_type": "error",
     "traceback": [
      "\u001b[1;31m---------------------------------------------------------------------------\u001b[0m",
      "\u001b[1;31mNameError\u001b[0m                                 Traceback (most recent call last)",
      "\u001b[1;32m<ipython-input-2-3728c3d20049>\u001b[0m in \u001b[0;36m<module>\u001b[1;34m\u001b[0m\n\u001b[0;32m     10\u001b[0m \u001b[1;33m\u001b[0m\u001b[0m\n\u001b[0;32m     11\u001b[0m \u001b[0mL\u001b[0m\u001b[1;33m=\u001b[0m\u001b[1;33m[\u001b[0m\u001b[1;36m1\u001b[0m\u001b[1;33m,\u001b[0m\u001b[1;36m2\u001b[0m\u001b[1;33m,\u001b[0m\u001b[1;36m3\u001b[0m\u001b[1;33m,\u001b[0m\u001b[1;36m4\u001b[0m\u001b[1;33m,\u001b[0m\u001b[1;36m5\u001b[0m\u001b[1;33m,\u001b[0m\u001b[1;36m6\u001b[0m\u001b[1;33m,\u001b[0m\u001b[1;36m7\u001b[0m\u001b[1;33m,\u001b[0m\u001b[1;36m8\u001b[0m\u001b[1;33m,\u001b[0m\u001b[1;36m9\u001b[0m\u001b[1;33m,\u001b[0m\u001b[1;36m10\u001b[0m\u001b[1;33m]\u001b[0m\u001b[1;33m\u001b[0m\u001b[1;33m\u001b[0m\u001b[0m\n\u001b[1;32m---> 12\u001b[1;33m \u001b[0mprint\u001b[0m\u001b[1;33m(\u001b[0m\u001b[1;34mf'????{truc(L)}'\u001b[0m\u001b[1;33m)\u001b[0m\u001b[1;33m\u001b[0m\u001b[1;33m\u001b[0m\u001b[0m\n\u001b[0m",
      "\u001b[1;31mNameError\u001b[0m: name 'truc' is not defined"
     ]
    }
   ],
   "source": [
    "# Version Eleve\n",
    "def truc2(L):\n",
    "    \"\"\"\n",
    "    \n",
    "    \"\"\"\n",
    "    s=0 \n",
    "    for i in range (len(L)):\n",
    "        s+=L[i]\n",
    "    return s\n",
    "\n",
    "L=[1,2,3,4,5,6,7,8,9,10]\n",
    "print(f'????{truc(L)}')"
   ]
  },
  {
   "cell_type": "code",
   "execution_count": 10,
   "metadata": {},
   "outputs": [
    {
     "name": "stdout",
     "output_type": "stream",
     "text": [
      "La somme des éléments du tableau L est égal à 55\n"
     ]
    }
   ],
   "source": [
    "# Version Prof\n",
    "def somme2(L):\n",
    "    \n",
    "    \"\"\"\n",
    "    Entrée : un tableau d'entier\n",
    "    Sortie : La somme de toutes les valeurs du tableau\n",
    "    \"\"\"\n",
    "    s=0 \n",
    "    for i in range (len(L)):\n",
    "        s+=L[i]\n",
    "    return s\n",
    "\n",
    "\n",
    "L=[1,2,3,4,5,6,7,8,9,10]\n",
    "somme2(L)\n",
    "print(f'La somme des éléments du tableau L est égal à {somme2(L)}')"
   ]
  },
  {
   "cell_type": "markdown",
   "metadata": {},
   "source": [
    "# Dictee N°3\n"
   ]
  },
  {
   "cell_type": "code",
   "execution_count": 2,
   "metadata": {},
   "outputs": [
    {
     "data": {
      "text/plain": [
       "120"
      ]
     },
     "execution_count": 2,
     "metadata": {},
     "output_type": "execute_result"
    }
   ],
   "source": [
    "# Version Eleve\n",
    "def truc3(L):\n",
    "    if not L:\n",
    "        return 0\n",
    "    return L[0]+truc3(L[1:])\n",
    "\n",
    "L=[1,2,3,4,5,6,7,8,9,10,11,12,13,14,15]\n",
    "truc3(L)\n",
    "#print(f'??? {truc3(L)}')"
   ]
  },
  {
   "cell_type": "code",
   "execution_count": null,
   "metadata": {},
   "outputs": [],
   "source": [
    "# Version Eleve\n",
    "def somme3(L):\n",
    "    if not L:\n",
    "        return 0\n",
    "    return L[0]+truc3(L[1:])\n",
    "\n",
    "L=[1,2,3,4,5,6,7,8,9,10]\n",
    "somme3(L)\n",
    "print(f'??? {truc3(L)}')"
   ]
  },
  {
   "cell_type": "code",
   "execution_count": 9,
   "metadata": {},
   "outputs": [
    {
     "data": {
      "text/plain": [
       "'vion'"
      ]
     },
     "execution_count": 9,
     "metadata": {},
     "output_type": "execute_result"
    }
   ],
   "source": [
    "mot='avion'\n",
    "mot[1:]"
   ]
  },
  {
   "cell_type": "code",
   "execution_count": 6,
   "metadata": {},
   "outputs": [],
   "source": [
    "import os\n",
    "os.environ[\"PATH\"] += os.pathsep + 'C:/Program Files/Graphviz/bin'\n",
    "\n",
    "#D:/Program Files (x86)/Graphviz2.38/bin/'"
   ]
  },
  {
   "cell_type": "code",
   "execution_count": 7,
   "metadata": {},
   "outputs": [],
   "source": [
    "import rcviz"
   ]
  },
  {
   "cell_type": "code",
   "execution_count": 11,
   "metadata": {},
   "outputs": [
    {
     "name": "stdout",
     "output_type": "stream",
     "text": [
      "La somme des éléments du tableau L est égal à 0\n",
      "callviz: Rendering in inline in Jupyter Notebook\n"
     ]
    },
    {
     "data": {
      "image/svg+xml": [
       "<?xml version=\"1.0\" encoding=\"UTF-8\" standalone=\"no\"?>\r\n",
       "<!DOCTYPE svg PUBLIC \"-//W3C//DTD SVG 1.1//EN\"\r\n",
       " \"http://www.w3.org/Graphics/SVG/1.1/DTD/svg11.dtd\">\r\n",
       "<!-- Generated by graphviz version 2.49.0 (20210828.1703)\r\n",
       " -->\r\n",
       "<!-- Pages: 1 -->\r\n",
       "<svg width=\"229pt\" height=\"976pt\"\r\n",
       " viewBox=\"0.00 0.00 229.00 976.00\" xmlns=\"http://www.w3.org/2000/svg\" xmlns:xlink=\"http://www.w3.org/1999/xlink\">\r\n",
       "<g id=\"graph0\" class=\"graph\" transform=\"scale(1 1) rotate(0) translate(4 972)\">\r\n",
       "<polygon fill=\"white\" stroke=\"transparent\" points=\"-4,4 -4,-972 225,-972 225,4 -4,4\"/>\r\n",
       "<text text-anchor=\"middle\" x=\"110.5\" y=\"-7.8\" font-family=\"Helvetica,sans-Serif\" font-size=\"14.00\">nodes=11</text>\r\n",
       "<!-- 1899534791608 -->\r\n",
       "<g id=\"node1\" class=\"node\">\r\n",
       "<title>1899534791608</title>\r\n",
       "<path fill=\"none\" stroke=\"black\" d=\"M12,-923.5C12,-923.5 209,-923.5 209,-923.5 215,-923.5 221,-929.5 221,-935.5 221,-935.5 221,-955.5 221,-955.5 221,-961.5 215,-967.5 209,-967.5 209,-967.5 12,-967.5 12,-967.5 6,-967.5 0,-961.5 0,-955.5 0,-955.5 0,-935.5 0,-935.5 0,-929.5 6,-923.5 12,-923.5\"/>\r\n",
       "<text text-anchor=\"middle\" x=\"110.5\" y=\"-953.1\" font-family=\"Helvetica,sans-Serif\" font-size=\"13.00\">somme3([1, 2, 3, 4, 5, 6, 7, 8, 9, 10])</text>\r\n",
       "<polyline fill=\"none\" stroke=\"black\" points=\"0,-945.5 221,-945.5 \"/>\r\n",
       "<text text-anchor=\"middle\" x=\"110.5\" y=\"-931.1\" font-family=\"Helvetica,sans-Serif\" font-size=\"13.00\">ret: 0</text>\r\n",
       "</g>\r\n",
       "<!-- 1899534231416 -->\r\n",
       "<g id=\"node2\" class=\"node\">\r\n",
       "<title>1899534231416</title>\r\n",
       "<path fill=\"none\" stroke=\"black\" d=\"M19.5,-833.5C19.5,-833.5 201.5,-833.5 201.5,-833.5 207.5,-833.5 213.5,-839.5 213.5,-845.5 213.5,-845.5 213.5,-865.5 213.5,-865.5 213.5,-871.5 207.5,-877.5 201.5,-877.5 201.5,-877.5 19.5,-877.5 19.5,-877.5 13.5,-877.5 7.5,-871.5 7.5,-865.5 7.5,-865.5 7.5,-845.5 7.5,-845.5 7.5,-839.5 13.5,-833.5 19.5,-833.5\"/>\r\n",
       "<text text-anchor=\"middle\" x=\"110.5\" y=\"-863.1\" font-family=\"Helvetica,sans-Serif\" font-size=\"13.00\">somme3([2, 3, 4, 5, 6, 7, 8, 9, 10])</text>\r\n",
       "<polyline fill=\"none\" stroke=\"black\" points=\"7.5,-855.5 213.5,-855.5 \"/>\r\n",
       "<text text-anchor=\"middle\" x=\"110.5\" y=\"-841.1\" font-family=\"Helvetica,sans-Serif\" font-size=\"13.00\">ret: 0</text>\r\n",
       "</g>\r\n",
       "<!-- 1899534791608&#45;&gt;1899534231416 -->\r\n",
       "<g id=\"edge1\" class=\"edge\">\r\n",
       "<title>1899534791608&#45;&gt;1899534231416</title>\r\n",
       "<path fill=\"none\" stroke=\"#121212\" d=\"M110.5,-923.2C110.5,-912.6 110.5,-899.59 110.5,-887.89\"/>\r\n",
       "<polygon fill=\"#121212\" stroke=\"#121212\" points=\"114,-887.61 110.5,-877.61 107,-887.61 114,-887.61\"/>\r\n",
       "<text text-anchor=\"middle\" x=\"137\" y=\"-898.6\" font-family=\"Helvetica,sans-Serif\" font-size=\"8.00\" fill=\"#999999\">1 (⇑10)</text>\r\n",
       "</g>\r\n",
       "<!-- 1899534792696 -->\r\n",
       "<g id=\"node3\" class=\"node\">\r\n",
       "<title>1899534792696</title>\r\n",
       "<path fill=\"none\" stroke=\"black\" d=\"M26.5,-743.5C26.5,-743.5 194.5,-743.5 194.5,-743.5 200.5,-743.5 206.5,-749.5 206.5,-755.5 206.5,-755.5 206.5,-775.5 206.5,-775.5 206.5,-781.5 200.5,-787.5 194.5,-787.5 194.5,-787.5 26.5,-787.5 26.5,-787.5 20.5,-787.5 14.5,-781.5 14.5,-775.5 14.5,-775.5 14.5,-755.5 14.5,-755.5 14.5,-749.5 20.5,-743.5 26.5,-743.5\"/>\r\n",
       "<text text-anchor=\"middle\" x=\"110.5\" y=\"-773.1\" font-family=\"Helvetica,sans-Serif\" font-size=\"13.00\">somme3([3, 4, 5, 6, 7, 8, 9, 10])</text>\r\n",
       "<polyline fill=\"none\" stroke=\"black\" points=\"14.5,-765.5 206.5,-765.5 \"/>\r\n",
       "<text text-anchor=\"middle\" x=\"110.5\" y=\"-751.1\" font-family=\"Helvetica,sans-Serif\" font-size=\"13.00\">ret: 0</text>\r\n",
       "</g>\r\n",
       "<!-- 1899534231416&#45;&gt;1899534792696 -->\r\n",
       "<g id=\"edge2\" class=\"edge\">\r\n",
       "<title>1899534231416&#45;&gt;1899534792696</title>\r\n",
       "<path fill=\"none\" stroke=\"#242424\" d=\"M110.5,-833.2C110.5,-822.6 110.5,-809.59 110.5,-797.89\"/>\r\n",
       "<polygon fill=\"#242424\" stroke=\"#242424\" points=\"114,-797.61 110.5,-787.61 107,-797.61 114,-797.61\"/>\r\n",
       "<text text-anchor=\"middle\" x=\"135\" y=\"-808.6\" font-family=\"Helvetica,sans-Serif\" font-size=\"8.00\" fill=\"#999999\">2 (⇑9)</text>\r\n",
       "</g>\r\n",
       "<!-- 1899534376664 -->\r\n",
       "<g id=\"node4\" class=\"node\">\r\n",
       "<title>1899534376664</title>\r\n",
       "<path fill=\"none\" stroke=\"black\" d=\"M33.5,-653.5C33.5,-653.5 187.5,-653.5 187.5,-653.5 193.5,-653.5 199.5,-659.5 199.5,-665.5 199.5,-665.5 199.5,-685.5 199.5,-685.5 199.5,-691.5 193.5,-697.5 187.5,-697.5 187.5,-697.5 33.5,-697.5 33.5,-697.5 27.5,-697.5 21.5,-691.5 21.5,-685.5 21.5,-685.5 21.5,-665.5 21.5,-665.5 21.5,-659.5 27.5,-653.5 33.5,-653.5\"/>\r\n",
       "<text text-anchor=\"middle\" x=\"110.5\" y=\"-683.1\" font-family=\"Helvetica,sans-Serif\" font-size=\"13.00\">somme3([4, 5, 6, 7, 8, 9, 10])</text>\r\n",
       "<polyline fill=\"none\" stroke=\"black\" points=\"21.5,-675.5 199.5,-675.5 \"/>\r\n",
       "<text text-anchor=\"middle\" x=\"110.5\" y=\"-661.1\" font-family=\"Helvetica,sans-Serif\" font-size=\"13.00\">ret: 0</text>\r\n",
       "</g>\r\n",
       "<!-- 1899534792696&#45;&gt;1899534376664 -->\r\n",
       "<g id=\"edge3\" class=\"edge\">\r\n",
       "<title>1899534792696&#45;&gt;1899534376664</title>\r\n",
       "<path fill=\"none\" stroke=\"#363636\" d=\"M110.5,-743.2C110.5,-732.6 110.5,-719.59 110.5,-707.89\"/>\r\n",
       "<polygon fill=\"#363636\" stroke=\"#363636\" points=\"114,-707.61 110.5,-697.61 107,-707.61 114,-707.61\"/>\r\n",
       "<text text-anchor=\"middle\" x=\"135\" y=\"-718.6\" font-family=\"Helvetica,sans-Serif\" font-size=\"8.00\" fill=\"#999999\">3 (⇑8)</text>\r\n",
       "</g>\r\n",
       "<!-- 1899511580136 -->\r\n",
       "<g id=\"node5\" class=\"node\">\r\n",
       "<title>1899511580136</title>\r\n",
       "<path fill=\"none\" stroke=\"black\" d=\"M40.5,-563.5C40.5,-563.5 180.5,-563.5 180.5,-563.5 186.5,-563.5 192.5,-569.5 192.5,-575.5 192.5,-575.5 192.5,-595.5 192.5,-595.5 192.5,-601.5 186.5,-607.5 180.5,-607.5 180.5,-607.5 40.5,-607.5 40.5,-607.5 34.5,-607.5 28.5,-601.5 28.5,-595.5 28.5,-595.5 28.5,-575.5 28.5,-575.5 28.5,-569.5 34.5,-563.5 40.5,-563.5\"/>\r\n",
       "<text text-anchor=\"middle\" x=\"110.5\" y=\"-593.1\" font-family=\"Helvetica,sans-Serif\" font-size=\"13.00\">somme3([5, 6, 7, 8, 9, 10])</text>\r\n",
       "<polyline fill=\"none\" stroke=\"black\" points=\"28.5,-585.5 192.5,-585.5 \"/>\r\n",
       "<text text-anchor=\"middle\" x=\"110.5\" y=\"-571.1\" font-family=\"Helvetica,sans-Serif\" font-size=\"13.00\">ret: 0</text>\r\n",
       "</g>\r\n",
       "<!-- 1899534376664&#45;&gt;1899511580136 -->\r\n",
       "<g id=\"edge4\" class=\"edge\">\r\n",
       "<title>1899534376664&#45;&gt;1899511580136</title>\r\n",
       "<path fill=\"none\" stroke=\"#484848\" d=\"M110.5,-653.2C110.5,-642.6 110.5,-629.59 110.5,-617.89\"/>\r\n",
       "<polygon fill=\"#484848\" stroke=\"#484848\" points=\"114,-617.61 110.5,-607.61 107,-617.61 114,-617.61\"/>\r\n",
       "<text text-anchor=\"middle\" x=\"135\" y=\"-628.6\" font-family=\"Helvetica,sans-Serif\" font-size=\"8.00\" fill=\"#999999\">4 (⇑7)</text>\r\n",
       "</g>\r\n",
       "<!-- 1899534792152 -->\r\n",
       "<g id=\"node6\" class=\"node\">\r\n",
       "<title>1899534792152</title>\r\n",
       "<path fill=\"none\" stroke=\"black\" d=\"M48,-473.5C48,-473.5 173,-473.5 173,-473.5 179,-473.5 185,-479.5 185,-485.5 185,-485.5 185,-505.5 185,-505.5 185,-511.5 179,-517.5 173,-517.5 173,-517.5 48,-517.5 48,-517.5 42,-517.5 36,-511.5 36,-505.5 36,-505.5 36,-485.5 36,-485.5 36,-479.5 42,-473.5 48,-473.5\"/>\r\n",
       "<text text-anchor=\"middle\" x=\"110.5\" y=\"-503.1\" font-family=\"Helvetica,sans-Serif\" font-size=\"13.00\">somme3([6, 7, 8, 9, 10])</text>\r\n",
       "<polyline fill=\"none\" stroke=\"black\" points=\"36,-495.5 185,-495.5 \"/>\r\n",
       "<text text-anchor=\"middle\" x=\"110.5\" y=\"-481.1\" font-family=\"Helvetica,sans-Serif\" font-size=\"13.00\">ret: 0</text>\r\n",
       "</g>\r\n",
       "<!-- 1899511580136&#45;&gt;1899534792152 -->\r\n",
       "<g id=\"edge5\" class=\"edge\">\r\n",
       "<title>1899511580136&#45;&gt;1899534792152</title>\r\n",
       "<path fill=\"none\" stroke=\"#5a5a5a\" d=\"M110.5,-563.2C110.5,-552.6 110.5,-539.59 110.5,-527.89\"/>\r\n",
       "<polygon fill=\"#5a5a5a\" stroke=\"#5a5a5a\" points=\"114,-527.61 110.5,-517.61 107,-527.61 114,-527.61\"/>\r\n",
       "<text text-anchor=\"middle\" x=\"135\" y=\"-538.6\" font-family=\"Helvetica,sans-Serif\" font-size=\"8.00\" fill=\"#999999\">5 (⇑6)</text>\r\n",
       "</g>\r\n",
       "<!-- 1899534719144 -->\r\n",
       "<g id=\"node7\" class=\"node\">\r\n",
       "<title>1899534719144</title>\r\n",
       "<path fill=\"none\" stroke=\"black\" d=\"M55,-383.5C55,-383.5 166,-383.5 166,-383.5 172,-383.5 178,-389.5 178,-395.5 178,-395.5 178,-415.5 178,-415.5 178,-421.5 172,-427.5 166,-427.5 166,-427.5 55,-427.5 55,-427.5 49,-427.5 43,-421.5 43,-415.5 43,-415.5 43,-395.5 43,-395.5 43,-389.5 49,-383.5 55,-383.5\"/>\r\n",
       "<text text-anchor=\"middle\" x=\"110.5\" y=\"-413.1\" font-family=\"Helvetica,sans-Serif\" font-size=\"13.00\">somme3([7, 8, 9, 10])</text>\r\n",
       "<polyline fill=\"none\" stroke=\"black\" points=\"43,-405.5 178,-405.5 \"/>\r\n",
       "<text text-anchor=\"middle\" x=\"110.5\" y=\"-391.1\" font-family=\"Helvetica,sans-Serif\" font-size=\"13.00\">ret: 0</text>\r\n",
       "</g>\r\n",
       "<!-- 1899534792152&#45;&gt;1899534719144 -->\r\n",
       "<g id=\"edge6\" class=\"edge\">\r\n",
       "<title>1899534792152&#45;&gt;1899534719144</title>\r\n",
       "<path fill=\"none\" stroke=\"#6c6c6c\" d=\"M110.5,-473.2C110.5,-462.6 110.5,-449.59 110.5,-437.89\"/>\r\n",
       "<polygon fill=\"#6c6c6c\" stroke=\"#6c6c6c\" points=\"114,-437.61 110.5,-427.61 107,-437.61 114,-437.61\"/>\r\n",
       "<text text-anchor=\"middle\" x=\"135\" y=\"-448.6\" font-family=\"Helvetica,sans-Serif\" font-size=\"8.00\" fill=\"#999999\">6 (⇑5)</text>\r\n",
       "</g>\r\n",
       "<!-- 1899534729080 -->\r\n",
       "<g id=\"node8\" class=\"node\">\r\n",
       "<title>1899534729080</title>\r\n",
       "<path fill=\"none\" stroke=\"black\" d=\"M62,-293.5C62,-293.5 159,-293.5 159,-293.5 165,-293.5 171,-299.5 171,-305.5 171,-305.5 171,-325.5 171,-325.5 171,-331.5 165,-337.5 159,-337.5 159,-337.5 62,-337.5 62,-337.5 56,-337.5 50,-331.5 50,-325.5 50,-325.5 50,-305.5 50,-305.5 50,-299.5 56,-293.5 62,-293.5\"/>\r\n",
       "<text text-anchor=\"middle\" x=\"110.5\" y=\"-323.1\" font-family=\"Helvetica,sans-Serif\" font-size=\"13.00\">somme3([8, 9, 10])</text>\r\n",
       "<polyline fill=\"none\" stroke=\"black\" points=\"50,-315.5 171,-315.5 \"/>\r\n",
       "<text text-anchor=\"middle\" x=\"110.5\" y=\"-301.1\" font-family=\"Helvetica,sans-Serif\" font-size=\"13.00\">ret: 0</text>\r\n",
       "</g>\r\n",
       "<!-- 1899534719144&#45;&gt;1899534729080 -->\r\n",
       "<g id=\"edge7\" class=\"edge\">\r\n",
       "<title>1899534719144&#45;&gt;1899534729080</title>\r\n",
       "<path fill=\"none\" stroke=\"#7e7e7e\" d=\"M110.5,-383.2C110.5,-372.6 110.5,-359.59 110.5,-347.89\"/>\r\n",
       "<polygon fill=\"#7e7e7e\" stroke=\"#7e7e7e\" points=\"114,-347.61 110.5,-337.61 107,-347.61 114,-347.61\"/>\r\n",
       "<text text-anchor=\"middle\" x=\"135\" y=\"-358.6\" font-family=\"Helvetica,sans-Serif\" font-size=\"8.00\" fill=\"#999999\">7 (⇑4)</text>\r\n",
       "</g>\r\n",
       "<!-- 1899534791064 -->\r\n",
       "<g id=\"node9\" class=\"node\">\r\n",
       "<title>1899534791064</title>\r\n",
       "<path fill=\"none\" stroke=\"black\" d=\"M69,-203.5C69,-203.5 152,-203.5 152,-203.5 158,-203.5 164,-209.5 164,-215.5 164,-215.5 164,-235.5 164,-235.5 164,-241.5 158,-247.5 152,-247.5 152,-247.5 69,-247.5 69,-247.5 63,-247.5 57,-241.5 57,-235.5 57,-235.5 57,-215.5 57,-215.5 57,-209.5 63,-203.5 69,-203.5\"/>\r\n",
       "<text text-anchor=\"middle\" x=\"110.5\" y=\"-233.1\" font-family=\"Helvetica,sans-Serif\" font-size=\"13.00\">somme3([9, 10])</text>\r\n",
       "<polyline fill=\"none\" stroke=\"black\" points=\"57,-225.5 164,-225.5 \"/>\r\n",
       "<text text-anchor=\"middle\" x=\"110.5\" y=\"-211.1\" font-family=\"Helvetica,sans-Serif\" font-size=\"13.00\">ret: 0</text>\r\n",
       "</g>\r\n",
       "<!-- 1899534729080&#45;&gt;1899534791064 -->\r\n",
       "<g id=\"edge8\" class=\"edge\">\r\n",
       "<title>1899534729080&#45;&gt;1899534791064</title>\r\n",
       "<path fill=\"none\" stroke=\"#909090\" d=\"M110.5,-293.2C110.5,-282.6 110.5,-269.59 110.5,-257.89\"/>\r\n",
       "<polygon fill=\"#909090\" stroke=\"#909090\" points=\"114,-257.61 110.5,-247.61 107,-257.61 114,-257.61\"/>\r\n",
       "<text text-anchor=\"middle\" x=\"135\" y=\"-268.6\" font-family=\"Helvetica,sans-Serif\" font-size=\"8.00\" fill=\"#999999\">8 (⇑3)</text>\r\n",
       "</g>\r\n",
       "<!-- 1899534788344 -->\r\n",
       "<g id=\"node10\" class=\"node\">\r\n",
       "<title>1899534788344</title>\r\n",
       "<path fill=\"none\" stroke=\"black\" d=\"M76.5,-113.5C76.5,-113.5 144.5,-113.5 144.5,-113.5 150.5,-113.5 156.5,-119.5 156.5,-125.5 156.5,-125.5 156.5,-145.5 156.5,-145.5 156.5,-151.5 150.5,-157.5 144.5,-157.5 144.5,-157.5 76.5,-157.5 76.5,-157.5 70.5,-157.5 64.5,-151.5 64.5,-145.5 64.5,-145.5 64.5,-125.5 64.5,-125.5 64.5,-119.5 70.5,-113.5 76.5,-113.5\"/>\r\n",
       "<text text-anchor=\"middle\" x=\"110.5\" y=\"-143.1\" font-family=\"Helvetica,sans-Serif\" font-size=\"13.00\">somme3([10])</text>\r\n",
       "<polyline fill=\"none\" stroke=\"black\" points=\"64.5,-135.5 156.5,-135.5 \"/>\r\n",
       "<text text-anchor=\"middle\" x=\"110.5\" y=\"-121.1\" font-family=\"Helvetica,sans-Serif\" font-size=\"13.00\">ret: 0</text>\r\n",
       "</g>\r\n",
       "<!-- 1899534791064&#45;&gt;1899534788344 -->\r\n",
       "<g id=\"edge9\" class=\"edge\">\r\n",
       "<title>1899534791064&#45;&gt;1899534788344</title>\r\n",
       "<path fill=\"none\" stroke=\"#a2a2a2\" d=\"M110.5,-203.2C110.5,-192.6 110.5,-179.59 110.5,-167.89\"/>\r\n",
       "<polygon fill=\"#a2a2a2\" stroke=\"#a2a2a2\" points=\"114,-167.61 110.5,-157.61 107,-167.61 114,-167.61\"/>\r\n",
       "<text text-anchor=\"middle\" x=\"135\" y=\"-178.6\" font-family=\"Helvetica,sans-Serif\" font-size=\"8.00\" fill=\"#999999\">9 (⇑2)</text>\r\n",
       "</g>\r\n",
       "<!-- 1899534793784 -->\r\n",
       "<g id=\"node11\" class=\"node\">\r\n",
       "<title>1899534793784</title>\r\n",
       "<path fill=\"none\" stroke=\"black\" d=\"M83,-23.5C83,-23.5 138,-23.5 138,-23.5 144,-23.5 150,-29.5 150,-35.5 150,-35.5 150,-55.5 150,-55.5 150,-61.5 144,-67.5 138,-67.5 138,-67.5 83,-67.5 83,-67.5 77,-67.5 71,-61.5 71,-55.5 71,-55.5 71,-35.5 71,-35.5 71,-29.5 77,-23.5 83,-23.5\"/>\r\n",
       "<text text-anchor=\"middle\" x=\"110.5\" y=\"-53.1\" font-family=\"Helvetica,sans-Serif\" font-size=\"13.00\">somme3([])</text>\r\n",
       "<polyline fill=\"none\" stroke=\"black\" points=\"71,-45.5 150,-45.5 \"/>\r\n",
       "<text text-anchor=\"middle\" x=\"110.5\" y=\"-31.1\" font-family=\"Helvetica,sans-Serif\" font-size=\"13.00\">ret: 0</text>\r\n",
       "</g>\r\n",
       "<!-- 1899534788344&#45;&gt;1899534793784 -->\r\n",
       "<g id=\"edge10\" class=\"edge\">\r\n",
       "<title>1899534788344&#45;&gt;1899534793784</title>\r\n",
       "<path fill=\"none\" stroke=\"#b4b4b4\" d=\"M110.5,-113.2C110.5,-102.6 110.5,-89.59 110.5,-77.89\"/>\r\n",
       "<polygon fill=\"#b4b4b4\" stroke=\"#b4b4b4\" points=\"114,-77.61 110.5,-67.61 107,-77.61 114,-77.61\"/>\r\n",
       "<text text-anchor=\"middle\" x=\"137\" y=\"-88.6\" font-family=\"Helvetica,sans-Serif\" font-size=\"8.00\" fill=\"#999999\">10 (⇑1)</text>\r\n",
       "</g>\r\n",
       "</g>\r\n",
       "</svg>\r\n"
      ],
      "text/plain": [
       "<graphviz.dot.Digraph at 0x1ba466c2c50>"
      ]
     },
     "execution_count": 11,
     "metadata": {},
     "output_type": "execute_result"
    }
   ],
   "source": [
    "# Version Prof\n",
    "\n",
    "#cg = rcviz.CallGraph()\n",
    "#@rcviz.viz(cg)\n",
    "\n",
    "def somme3(L):\n",
    "    if not L:\n",
    "        return 0\n",
    "    return somme3(L[1:])\n",
    "\n",
    "L=[1,2,3,4,5,6,7,8,9,10]\n",
    "\n",
    "print(f'La somme des éléments du tableau L est égal à {somme3(L)}')\n",
    "\n",
    "#cg.render()"
   ]
  },
  {
   "cell_type": "code",
   "execution_count": 13,
   "metadata": {},
   "outputs": [
    {
     "data": {
      "text/plain": [
       "0"
      ]
     },
     "execution_count": 13,
     "metadata": {},
     "output_type": "execute_result"
    }
   ],
   "source": [
    "def somme4(L):\n",
    "    if L[0]==3:\n",
    "        return 0\n",
    "    return somme4(L[1:])\n",
    "\n",
    "tab=[1,2,3,4,5,6,7,8,9,10]\n",
    "somme4(tab)"
   ]
  },
  {
   "cell_type": "markdown",
   "metadata": {},
   "source": [
    "# Dictee N°4\n"
   ]
  },
  {
   "cell_type": "code",
   "execution_count": 18,
   "metadata": {},
   "outputs": [
    {
     "name": "stdout",
     "output_type": "stream",
     "text": [
      "ruojnob\n",
      "noyon\n",
      "isn al eviv\n",
      "False\n",
      "True\n",
      "False\n"
     ]
    }
   ],
   "source": [
    "# Version Eleve\n",
    "def bidule(ch):\n",
    "    resultat=''\n",
    "    for caractere in ch:\n",
    "        resultat = caractere + resultat\n",
    "    return resultat\n",
    "\n",
    "print(bidule('bonjour'))\n",
    "print(bidule('noyon'))\n",
    "print(bidule('vive la nsi'))\n",
    "\n",
    "def bidule1(ch):\n",
    "    mot=bidule(ch)\n",
    "    return mot==ch\n",
    "\n",
    "print(bidule1('bonjour'))\n",
    "print(bidule1('noyon'))\n",
    "print(bidule1('vive la nsi'))\n",
    "        "
   ]
  },
  {
   "cell_type": "code",
   "execution_count": 19,
   "metadata": {},
   "outputs": [
    {
     "name": "stdout",
     "output_type": "stream",
     "text": [
      "ruojnob\n",
      "noyon\n",
      "isn al eviv\n",
      "False\n",
      "True\n",
      "False\n"
     ]
    }
   ],
   "source": [
    "# Version Prof\n",
    "def inverse(ch):\n",
    "    resultat=''\n",
    "    for caractere in ch:\n",
    "        resultat = caractere + resultat\n",
    "    return resultat\n",
    "\n",
    "print(inverse('bonjour'))\n",
    "print(inverse('noyon'))\n",
    "print(inverse('vive la nsi'))\n",
    "\n",
    "def estPalindrome(ch):\n",
    "    mot=inverse(ch)\n",
    "    return mot==ch\n",
    "\n",
    "#def estPalindrome(ch):\n",
    "#    mot=inverse(ch)\n",
    "#    for i in range(len(mot)) :\n",
    "#        if ch[i]!=mot[i]:\n",
    "#            return False\n",
    "#    return True\n",
    "\n",
    "print(estPalindrome('bonjour'))\n",
    "print(estPalindrome('noyon'))\n",
    "print(estPalindrome('vive la nsi'))\n",
    "        "
   ]
  },
  {
   "cell_type": "markdown",
   "metadata": {},
   "source": [
    "# Dictee N°5\n"
   ]
  },
  {
   "cell_type": "code",
   "execution_count": 22,
   "metadata": {},
   "outputs": [
    {
     "name": "stdout",
     "output_type": "stream",
     "text": [
      "False\n",
      "True\n"
     ]
    }
   ],
   "source": [
    "#version Eleve\n",
    "def machin(ch):\n",
    "    if ch=='':\n",
    "        return ''\n",
    "    else : return  machin(ch[1:]) + ch[0]\n",
    "    \n",
    "def prog1(ch):\n",
    "    mot=machin(ch)\n",
    "    return mot==ch\n",
    "\n",
    "print(prog1('azerty'))\n",
    "print(prog1('kayak'))"
   ]
  },
  {
   "cell_type": "code",
   "execution_count": 9,
   "metadata": {},
   "outputs": [
    {
     "data": {
      "text/plain": [
       "'ytreza'"
      ]
     },
     "execution_count": 9,
     "metadata": {},
     "output_type": "execute_result"
    }
   ],
   "source": [
    "#version Prof\n",
    "def inverseRec(ch):\n",
    "    if ch=='':\n",
    "        return ''\n",
    "    else : return  inverseRec(ch[1:]) + ch[0]\n",
    "\n",
    "inverseRec('azerty')"
   ]
  },
  {
   "cell_type": "markdown",
   "metadata": {},
   "source": [
    "# Dictee N°6\n"
   ]
  },
  {
   "cell_type": "code",
   "execution_count": 15,
   "metadata": {},
   "outputs": [],
   "source": [
    "# Version Eleve\n",
    "\n",
    "def machin1(ch):\n",
    "    if len(ch)<=1: return True\n",
    "    else : return ch[0]==ch[-1] and machin1(ch[1:-1])"
   ]
  },
  {
   "cell_type": "code",
   "execution_count": 17,
   "metadata": {},
   "outputs": [
    {
     "name": "stdout",
     "output_type": "stream",
     "text": [
      "False\n",
      "True\n",
      "False\n"
     ]
    }
   ],
   "source": [
    "print(machin1('bonjour'))\n",
    "print(machin1('noyon'))\n",
    "print(machin1('vive la nsi'))"
   ]
  },
  {
   "cell_type": "code",
   "execution_count": 18,
   "metadata": {},
   "outputs": [],
   "source": [
    "# Version Prof\n",
    "\n",
    "def estPalindromeRec(ch):\n",
    "    if len(ch)<=1: return True\n",
    "    else : return ch[0]==ch[-1] and estPalindromeRec(ch[1:-1])"
   ]
  },
  {
   "cell_type": "code",
   "execution_count": 19,
   "metadata": {},
   "outputs": [
    {
     "name": "stdout",
     "output_type": "stream",
     "text": [
      "False\n",
      "True\n",
      "False\n"
     ]
    }
   ],
   "source": [
    "print(estPalindromeRec('bonjour'))\n",
    "print(estPalindromeRec('noyon'))\n",
    "print(estPalindromeRec('vive la nsi'))"
   ]
  },
  {
   "cell_type": "code",
   "execution_count": null,
   "metadata": {},
   "outputs": [],
   "source": []
  },
  {
   "cell_type": "markdown",
   "metadata": {},
   "source": [
    "# Dictee N°7\n"
   ]
  },
  {
   "cell_type": "code",
   "execution_count": null,
   "metadata": {},
   "outputs": [],
   "source": []
  },
  {
   "cell_type": "code",
   "execution_count": 14,
   "metadata": {},
   "outputs": [
    {
     "data": {
      "text/plain": [
       "{'b': 1, 'o': 2, 'n': 1, 'j': 1, 'u': 1, 'r': 1}"
      ]
     },
     "execution_count": 14,
     "metadata": {},
     "output_type": "execute_result"
    }
   ],
   "source": [
    "# Version Eleve\n",
    "#recherche du nombre d'occurrence dans un mot\n",
    "\n",
    "def machin2(mot):\n",
    "    reponse={}\n",
    "    for lettre in mot :\n",
    "        if lettre not in reponse:\n",
    "            reponse[lettre]=1\n",
    "        else:\n",
    "            reponse[lettre]+=1\n",
    "    return reponse\n",
    "\n",
    "machin2('bonjour')"
   ]
  },
  {
   "cell_type": "code",
   "execution_count": null,
   "metadata": {},
   "outputs": [],
   "source": [
    "# Version Prof\n",
    "#recherche du nombre d'occurrence dans un mot\n",
    "\n",
    "def rechercheOcurrence(mot):\n",
    "    reponse={}\n",
    "    for lettre in mot :\n",
    "        if lettre not in reponse:\n",
    "            reponse[lettre]=1\n",
    "        else:\n",
    "            reponse[lettre]+=1\n",
    "    return reponse\n",
    "\n",
    "rechercheOcurrence('bonjour')"
   ]
  },
  {
   "cell_type": "markdown",
   "metadata": {},
   "source": [
    "# Dictee N°8\n",
    "\n"
   ]
  },
  {
   "cell_type": "code",
   "execution_count": 1,
   "metadata": {},
   "outputs": [
    {
     "data": {
      "text/plain": [
       "254"
      ]
     },
     "execution_count": 1,
     "metadata": {},
     "output_type": "execute_result"
    }
   ],
   "source": [
    "#Version Eleve \n",
    "def fonction1(n1,n2):\n",
    "    if n1<n2:\n",
    "        return n2\n",
    "    else:\n",
    "        return n1\n",
    "    \n",
    "def fonction2(tab):\n",
    "    if len(tab)==1: return tab[0]\n",
    "    else: return fonction1(tab[0], fonction2(tab[1:]))\n",
    "    \n",
    "fonction2([25,1,254,6,3,98,74,14,56])\n",
    "        "
   ]
  },
  {
   "cell_type": "code",
   "execution_count": 2,
   "metadata": {},
   "outputs": [
    {
     "data": {
      "text/plain": [
       "254"
      ]
     },
     "execution_count": 2,
     "metadata": {},
     "output_type": "execute_result"
    }
   ],
   "source": [
    "# Version Prof\n",
    "\n",
    "def maximum1(n1,n2):\n",
    "    if n1<n2:\n",
    "        return n2\n",
    "    else:\n",
    "        return n1\n",
    "    \n",
    "def maxRec(tab):\n",
    "    if len(tab)==1: return tab[0]\n",
    "    else: return maximum1(tab[0], maxRec(tab[1:]))\n",
    "    \n",
    "maxRec([25,1,254,6,3,98,74,14,56])\n",
    "        "
   ]
  },
  {
   "cell_type": "markdown",
   "metadata": {},
   "source": [
    "# Dictee N°9\n",
    "\n"
   ]
  },
  {
   "cell_type": "code",
   "execution_count": null,
   "metadata": {},
   "outputs": [],
   "source": []
  },
  {
   "cell_type": "code",
   "execution_count": null,
   "metadata": {},
   "outputs": [],
   "source": []
  }
 ],
 "metadata": {
  "hide_input": false,
  "kernelspec": {
   "display_name": "Python 3",
   "language": "python",
   "name": "python3"
  },
  "language_info": {
   "codemirror_mode": {
    "name": "ipython",
    "version": 3
   },
   "file_extension": ".py",
   "mimetype": "text/x-python",
   "name": "python",
   "nbconvert_exporter": "python",
   "pygments_lexer": "ipython3",
   "version": "3.7.3"
  },
  "varInspector": {
   "cols": {
    "lenName": 16,
    "lenType": 16,
    "lenVar": 40
   },
   "kernels_config": {
    "python": {
     "delete_cmd_postfix": "",
     "delete_cmd_prefix": "del ",
     "library": "var_list.py",
     "varRefreshCmd": "print(var_dic_list())"
    },
    "r": {
     "delete_cmd_postfix": ") ",
     "delete_cmd_prefix": "rm(",
     "library": "var_list.r",
     "varRefreshCmd": "cat(var_dic_list()) "
    }
   },
   "types_to_exclude": [
    "module",
    "function",
    "builtin_function_or_method",
    "instance",
    "_Feature"
   ],
   "window_display": false
  }
 },
 "nbformat": 4,
 "nbformat_minor": 2
}
